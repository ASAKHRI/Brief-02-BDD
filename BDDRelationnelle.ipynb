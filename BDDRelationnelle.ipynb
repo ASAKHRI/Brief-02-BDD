{
 "cells": [
  {
   "cell_type": "code",
   "execution_count": 27,
   "metadata": {},
   "outputs": [],
   "source": [
    "import psycopg2\n",
    "import configparser\n",
    "\n",
    "import pandas as pd"
   ]
  },
  {
   "cell_type": "code",
   "execution_count": 28,
   "metadata": {},
   "outputs": [
    {
     "data": {
      "text/plain": [
       "['config.ini']"
      ]
     },
     "execution_count": 28,
     "metadata": {},
     "output_type": "execute_result"
    }
   ],
   "source": [
    "# lecture du fichier de conf ou est contenu le mot de passe\n",
    "config = configparser.ConfigParser()\n",
    "config.read('config.ini')"
   ]
  },
  {
   "cell_type": "code",
   "execution_count": 29,
   "metadata": {},
   "outputs": [],
   "source": [
    "password = config['credentials']['password']"
   ]
  },
  {
   "cell_type": "code",
   "execution_count": 30,
   "metadata": {},
   "outputs": [],
   "source": [
    "# parametrer la connection a la bdd"
   ]
  },
  {
   "cell_type": "code",
   "execution_count": 82,
   "metadata": {},
   "outputs": [],
   "source": [
    "conn = psycopg2.connect(\n",
    "    host=\"localhost\",       \n",
    "    database=\"Brief-02-Alternance\", \n",
    "    user=\"postgres\",    \n",
    "    password=password, \n",
    "    port=\"5432\"               \n",
    ")"
   ]
  },
  {
   "cell_type": "markdown",
   "metadata": {},
   "source": [
    "un connecteur est : ..."
   ]
  },
  {
   "cell_type": "code",
   "execution_count": 83,
   "metadata": {},
   "outputs": [],
   "source": [
    "cur =  conn.cursor()"
   ]
  },
  {
   "cell_type": "code",
   "execution_count": 33,
   "metadata": {},
   "outputs": [],
   "source": [
    "# creation des tables\n",
    "create_ventes = '''\n",
    "CREATE TABLE IF NOT EXISTS vente (\n",
    "    product_id VARCHAR(50),\n",
    "    date TIMESTAMP,\n",
    "    session_id VARCHAR(50) PRIMARY KEY,\n",
    "    client_id VARCHAR(50),\n",
    "    quantity_sold INTEGER\n",
    ");\n",
    "'''\n",
    "cur.execute(create_ventes)\n",
    "conn.commit()"
   ]
  },
  {
   "cell_type": "code",
   "execution_count": 54,
   "metadata": {},
   "outputs": [],
   "source": [
    "# creation table client\n",
    "create_clients = '''\n",
    "CREATE TABLE IF NOT EXISTS clients (\n",
    "    client_id VARCHAR(50) PRIMARY KEY,\n",
    "    sex VARCHAR(50),\n",
    "    birth INTEGER\n",
    ");\n",
    "'''\n",
    "cur.execute(create_clients)\n",
    "conn.commit()\n"
   ]
  },
  {
   "cell_type": "code",
   "execution_count": 84,
   "metadata": {},
   "outputs": [],
   "source": [
    "# Création de la table produits\n",
    "create_produits = '''\n",
    "CREATE TABLE IF NOT EXISTS produits (\n",
    "    product_id VARCHAR(50) PRIMARY KEY,\n",
    "    category VARCHAR(50),\n",
    "    sub_category VARCHAR(50),\n",
    "    price FLOAT,       \n",
    "    stock_quantity INTEGER       \n",
    ");\n",
    "'''\n"
   ]
  },
  {
   "cell_type": "code",
   "execution_count": 80,
   "metadata": {},
   "outputs": [],
   "source": [
    "cur.execute(create_produits)\n",
    "conn.commit()"
   ]
  },
  {
   "cell_type": "markdown",
   "metadata": {},
   "source": [
    "ALIMENTATION DES TABLE A PARTIR DES CSV"
   ]
  },
  {
   "cell_type": "code",
   "execution_count": 40,
   "metadata": {},
   "outputs": [],
   "source": [
    "# IMPORT DES CSV DANS DES DATAFRAME\n",
    "clients = pd.read_csv('data/clients.csv',sep=';')\n",
    "produits = pd.read_csv('data/produits_sous-categorie.csv',sep=';')\n",
    "ventes = pd.read_csv('data/ventes.csv',sep=';')"
   ]
  },
  {
   "cell_type": "code",
   "execution_count": 55,
   "metadata": {},
   "outputs": [
    {
     "name": "stdout",
     "output_type": "stream",
     "text": [
      "Données insérées avec succès dans la table 'clients' !\n"
     ]
    }
   ],
   "source": [
    "# Insérer les données dans la table clients\n",
    "for index, row in clients.iterrows():\n",
    "    insert_query = '''\n",
    "    INSERT INTO clients (client_id, sex, birth)\n",
    "    VALUES (%s, %s, %s)\n",
    "    ON CONFLICT (client_id) DO NOTHING;  -- Pour éviter les erreurs en cas de doublons\n",
    "    '''\n",
    "    cur.execute(insert_query, (row['client_id'], row['sex'], row['birth']))\n",
    "\n",
    "# Valider l'insertion des données pour les clients\n",
    "conn.commit()\n",
    "print(\"Données insérées avec succès dans la table 'clients' !\")"
   ]
  },
  {
   "cell_type": "code",
   "execution_count": 56,
   "metadata": {},
   "outputs": [
    {
     "name": "stdout",
     "output_type": "stream",
     "text": [
      "Le type de la colonne 'birth' a été modifié avec succès !\n"
     ]
    }
   ],
   "source": [
    "# Convertir la colonne birth de INTEGER à TIMESTAMP\n",
    "alter_table_query = '''\n",
    "ALTER TABLE clients\n",
    "ALTER COLUMN birth TYPE TIMESTAMP WITHOUT TIME ZONE\n",
    "USING TO_TIMESTAMP(birth::text, 'YYYY');\n",
    "'''\n",
    "cur.execute(alter_table_query)\n",
    "conn.commit()\n",
    "print(\"Le type de la colonne 'birth' a été modifié avec succès !\")"
   ]
  },
  {
   "cell_type": "code",
   "execution_count": 61,
   "metadata": {},
   "outputs": [
    {
     "name": "stdout",
     "output_type": "stream",
     "text": [
      "Données insérées avec succès dans la table 'vente' !\n"
     ]
    }
   ],
   "source": [
    "# Supprimer la contrainte de clé primaire\n",
    "alter_table_query = '''\n",
    "ALTER TABLE vente DROP CONSTRAINT vente_pkey;\n",
    "'''\n",
    "cur.execute(alter_table_query)\n",
    "conn.commit()\n",
    "\n",
    "# Ensuite, vous pouvez réinsérer vos données comme précédemment\n",
    "for index, row in ventes.iterrows():\n",
    "    insert_query = '''\n",
    "    INSERT INTO vente (product_id, date, session_id, client_id, quantity_sold)\n",
    "    VALUES (%s, %s, %s, %s, %s);\n",
    "    '''\n",
    "    cur.execute(insert_query, (\n",
    "        row['product_id'],\n",
    "        row['date'],\n",
    "        row['session_id'],\n",
    "        row['client_id'],\n",
    "        row['quantity_sold']\n",
    "    ))\n",
    "\n",
    "conn.commit()\n",
    "print(\"Données insérées avec succès dans la table 'vente' !\")"
   ]
  },
  {
   "cell_type": "code",
   "execution_count": 86,
   "metadata": {},
   "outputs": [
    {
     "name": "stdout",
     "output_type": "stream",
     "text": [
      "Données insérées avec succès dans la table 'produits' !\n"
     ]
    }
   ],
   "source": [
    "# Insérer les données dans la table produits\n",
    "for index, row in produits.iterrows():\n",
    "    insert_query = '''\n",
    "    INSERT INTO produits (product_id, category, sub_category, price, stock_quantity)\n",
    "    VALUES (%s, %s, %s, %s, %s)\n",
    "    ON CONFLICT (product_id) DO NOTHING;\n",
    "    '''\n",
    "    \n",
    "    # Convertir le prix de string avec virgule en float\n",
    "    price = float(row['price'].replace(',', '.'))\n",
    "    \n",
    "    cur.execute(insert_query, (\n",
    "        row['product_id'],\n",
    "        row['category'],\n",
    "        row['sub_category'],\n",
    "        price,\n",
    "        int(row['stock_quantity'])\n",
    "    ))\n",
    "\n",
    "# Valider l'insertion des données pour les produits\n",
    "conn.commit()\n",
    "print(\"Données insérées avec succès dans la table 'produits' !\")"
   ]
  },
  {
   "cell_type": "markdown",
   "metadata": {},
   "source": [
    "### quelques requetes sql"
   ]
  },
  {
   "cell_type": "markdown",
   "metadata": {},
   "source": []
  }
 ],
 "metadata": {
  "kernelspec": {
   "display_name": "base",
   "language": "python",
   "name": "python3"
  },
  "language_info": {
   "codemirror_mode": {
    "name": "ipython",
    "version": 3
   },
   "file_extension": ".py",
   "mimetype": "text/x-python",
   "name": "python",
   "nbconvert_exporter": "python",
   "pygments_lexer": "ipython3",
   "version": "3.12.4"
  }
 },
 "nbformat": 4,
 "nbformat_minor": 2
}
